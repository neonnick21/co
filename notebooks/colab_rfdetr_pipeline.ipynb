{
 "cells": [
  {
   "cell_type": "markdown",
   "id": "e4f87599",
   "metadata": {},
   "source": [
    "# RF-DETR Object Detection on Google Colab\n",
    "This notebook will guide you through running your full pipeline on Colab with GPU support."
   ]
  },
  {
   "cell_type": "markdown",
   "id": "4ee68043",
   "metadata": {},
   "source": [
    "## 1. Enable GPU in Colab\n",
    "Go to `Runtime` > `Change runtime type` > Set 'Hardware accelerator' to 'GPU'."
   ]
  },
  {
   "cell_type": "markdown",
   "id": "912a96a1",
   "metadata": {},
   "source": [
    "## 2. Clone Your GitHub Repository"
   ]
  },
  {
   "cell_type": "code",
   "execution_count": null,
   "id": "4c9dbaf1",
   "metadata": {},
   "outputs": [],
   "source": [
    "!git clone https://github.com/your-username/your-repo.git\n",
    "%cd your-repo"
   ]
  },
  {
   "cell_type": "markdown",
   "id": "4c6f5f6e",
   "metadata": {},
   "source": [
    "## 3. Install Requirements"
   ]
  },
  {
   "cell_type": "code",
   "execution_count": null,
   "id": "d5abdad8",
   "metadata": {},
   "outputs": [],
   "source": [
    "!pip install -r requirements.txt"
   ]
  },
  {
   "cell_type": "markdown",
   "id": "afe33f1c",
   "metadata": {},
   "source": [
    "## 4. Download or Upload Data\n",
    "- If your data is small, use the Colab file upload button.\n",
    "- For larger datasets, run your data preprocessing script or download from Roboflow/Kaggle as before."
   ]
  },
  {
   "cell_type": "code",
   "execution_count": null,
   "id": "b39e35b7",
   "metadata": {},
   "outputs": [],
   "source": [
    "# Example: Run data preprocessing\n",
    "!python src/data_preprocessing.py"
   ]
  },
  {
   "cell_type": "markdown",
   "id": "15345764",
   "metadata": {},
   "source": [
    "## 5. Train the Model"
   ]
  },
  {
   "cell_type": "code",
   "execution_count": null,
   "id": "fd7e93bf",
   "metadata": {},
   "outputs": [],
   "source": [
    "!python -m src.train"
   ]
  },
  {
   "cell_type": "markdown",
   "id": "dcf3c658",
   "metadata": {},
   "source": [
    "## 6. Evaluate the Model"
   ]
  },
  {
   "cell_type": "code",
   "execution_count": null,
   "id": "6e9c820e",
   "metadata": {},
   "outputs": [],
   "source": [
    "!python -m src.evaluate"
   ]
  },
  {
   "cell_type": "markdown",
   "id": "bd9a4965",
   "metadata": {},
   "source": [
    "## 7. Save Results to Google Drive (Optional)"
   ]
  },
  {
   "cell_type": "code",
   "execution_count": null,
   "id": "0adc231b",
   "metadata": {},
   "outputs": [],
   "source": [
    "from google.colab import drive\n",
    "drive.mount('/content/drive')\n",
    "# Example: Save model\n",
    "!cp rfdetr_best.pth /content/drive/MyDrive/"
   ]
  }
 ],
 "metadata": {
  "language_info": {
   "name": "python"
  }
 },
 "nbformat": 4,
 "nbformat_minor": 5
}
