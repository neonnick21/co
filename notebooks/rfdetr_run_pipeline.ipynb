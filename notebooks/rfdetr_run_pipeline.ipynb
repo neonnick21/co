{
 "cells": [
  {
   "cell_type": "markdown",
   "id": "397f7b2a",
   "metadata": {},
   "source": [
    "# RF-DETR End-to-End Pipeline (Colab/Local)\n",
    "This notebook will guide you through the full RF-DETR object detection pipeline: setup, data preparation, training, evaluation, and visualization."
   ]
  },
  {
   "cell_type": "markdown",
   "id": "76ac5220",
   "metadata": {},
   "source": [
    "## 1. Install Requirements\n",
    "If running on Colab, uncomment the next cell."
   ]
  },
  {
   "cell_type": "code",
   "execution_count": null,
   "id": "13dbe8d8",
   "metadata": {},
   "outputs": [],
   "source": [
    "#!git clone https://github.com/neonnick21/co.git\n",
    "#%cd co\n",
    "#!pip install -r requirements.txt"
   ]
  },
  {
   "cell_type": "markdown",
   "id": "132877b2",
   "metadata": {},
   "source": [
    "## 2. Data Preparation\n",
    "Download, extract, split, and preprocess the dataset."
   ]
  },
  {
   "cell_type": "code",
   "execution_count": null,
   "id": "55eb5ba2",
   "metadata": {},
   "outputs": [],
   "source": [
    "!python src/data_preprocessing.py"
   ]
  },
  {
   "cell_type": "markdown",
   "id": "6780564c",
   "metadata": {},
   "source": [
    "## 3. Training the RF-DETR Model\n",
    "Train the model and save the best checkpoint."
   ]
  },
  {
   "cell_type": "code",
   "execution_count": null,
   "id": "6f783686",
   "metadata": {},
   "outputs": [],
   "source": [
    "!python -m src.train"
   ]
  },
  {
   "cell_type": "markdown",
   "id": "7e169a1a",
   "metadata": {},
   "source": [
    "## 4. Model Evaluation\n",
    "Evaluate the trained model and visualize predictions."
   ]
  },
  {
   "cell_type": "code",
   "execution_count": null,
   "id": "bd0f77ff",
   "metadata": {},
   "outputs": [],
   "source": [
    "!python -m src.evaluate"
   ]
  },
  {
   "cell_type": "markdown",
   "id": "27181614",
   "metadata": {},
   "source": [
    "## 5. Visualize Results and Report\n",
    "Summarize metrics and show example predictions."
   ]
  },
  {
   "cell_type": "code",
   "execution_count": null,
   "id": "a9f3442d",
   "metadata": {},
   "outputs": [],
   "source": [
    "# Example: Load and display evaluation results, metrics, and images\n",
    "# (You can customize this cell to load and visualize your own results)\n",
    "import os\n",
    "import matplotlib.pyplot as plt\n",
    "from PIL import Image\n",
    "results_dir = 'results'  # Update if you save visualizations elsewhere\n",
    "if os.path.exists(results_dir):\n",
    "    for fname in os.listdir(results_dir):\n",
    "        if fname.endswith('.jpg') or fname.endswith('.png'):\n",
    "            img = Image.open(os.path.join(results_dir, fname))\n",
    "            plt.imshow(img)\n",
    "            plt.title(fname)\n",
    "            plt.axis('off')\n",
    "            plt.show()"
   ]
  },
  {
   "cell_type": "markdown",
   "id": "d44cbc86",
   "metadata": {},
   "source": [
    "# RF-DETR End-to-End Pipeline (Colab/Local)\n",
    "This notebook will guide you through the full RF-DETR object detection pipeline: setup, data preparation, training, evaluation, and visualization."
   ]
  },
  {
   "cell_type": "markdown",
   "id": "4e707047",
   "metadata": {},
   "source": [
    "## 1. Install Requirements\n",
    "If running on Colab, uncomment the next cell."
   ]
  },
  {
   "cell_type": "code",
   "execution_count": null,
   "id": "3166c54e",
   "metadata": {},
   "outputs": [],
   "source": [
    "# !pip install -r requirements.txt"
   ]
  },
  {
   "cell_type": "markdown",
   "id": "ff13e964",
   "metadata": {},
   "source": [
    "## 2. Data Preparation\n",
    "Download, extract, split, and preprocess the dataset."
   ]
  },
  {
   "cell_type": "code",
   "execution_count": null,
   "id": "ccc0b151",
   "metadata": {},
   "outputs": [],
   "source": [
    "!python src/data_preprocessing.py"
   ]
  },
  {
   "cell_type": "markdown",
   "id": "bd403aa8",
   "metadata": {},
   "source": [
    "## 3. Training the RF-DETR Model\n",
    "Train the model and save the best checkpoint."
   ]
  },
  {
   "cell_type": "code",
   "execution_count": null,
   "id": "8ae277cd",
   "metadata": {},
   "outputs": [],
   "source": [
    "!python -m src.train"
   ]
  },
  {
   "cell_type": "markdown",
   "id": "e2acfd4b",
   "metadata": {},
   "source": [
    "## 4. Model Evaluation\n",
    "Evaluate the trained model and visualize predictions."
   ]
  },
  {
   "cell_type": "code",
   "execution_count": null,
   "id": "54105756",
   "metadata": {},
   "outputs": [],
   "source": [
    "!python -m src.evaluate"
   ]
  },
  {
   "cell_type": "markdown",
   "id": "f9e46d7e",
   "metadata": {},
   "source": [
    "## 5. Visualize Results and Report\n",
    "Summarize metrics and show example predictions."
   ]
  },
  {
   "cell_type": "code",
   "execution_count": null,
   "id": "7db33ebd",
   "metadata": {},
   "outputs": [],
   "source": [
    "# Example: Load and display evaluation results, metrics, and images\n",
    "# (You can customize this cell to load and visualize your own results)\n",
    "import os\n",
    "import matplotlib.pyplot as plt\n",
    "from PIL import Image\n",
    "results_dir = 'results'  # Update if you save visualizations elsewhere\n",
    "if os.path.exists(results_dir):\n",
    "    for fname in os.listdir(results_dir):\n",
    "        if fname.endswith('.jpg') or fname.endswith('.png'):\n",
    "            img = Image.open(os.path.join(results_dir, fname))\n",
    "            plt.imshow(img)\n",
    "            plt.title(fname)\n",
    "            plt.axis('off')\n",
    "            plt.show()"
   ]
  }
 ],
 "metadata": {
  "language_info": {
   "name": "python"
  }
 },
 "nbformat": 4,
 "nbformat_minor": 5
}
